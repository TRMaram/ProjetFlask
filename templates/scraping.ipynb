{
 "cells": [
  {
   "cell_type": "code",
   "execution_count": 1,
   "metadata": {
    "collapsed": true
   },
   "outputs": [
    {
     "name": "stdout",
     "output_type": "stream",
     "text": [
      "Requirement already satisfied: requests in c:\\users\\maram\\pycharmprojects\\flaskproject\\venv\\lib\\site-packages (2.31.0)\n",
      "Requirement already satisfied: beautifulsoup4 in c:\\users\\maram\\pycharmprojects\\flaskproject\\venv\\lib\\site-packages (4.12.2)\n",
      "Collecting pandas\n",
      "  Downloading pandas-2.1.3-cp310-cp310-win_amd64.whl.metadata (18 kB)\n",
      "Note: you may need to restart the kernel to use updated packages.\n"
     ]
    },
    {
     "name": "stderr",
     "output_type": "stream",
     "text": [
      "ERROR: Could not find a version that satisfies the requirement time (from versions: none)\n",
      "ERROR: No matching distribution found for time\n"
     ]
    }
   ],
   "source": [
    "#pip install requests beautifulsoup4 pandas time"
   ]
  },
  {
   "cell_type": "code",
   "execution_count": 34,
   "outputs": [],
   "source": [
    "import requests\n",
    "\n",
    "from bs4 import BeautifulSoup\n",
    "import pandas as pd\n",
    "import time\n",
    "\n",
    "# URL of the website to scrape\n",
    "url = \"https://www.tanitjobs.com/jobs/\"\n",
    "\n",
    "# Send an HTTP GET request to the website\n",
    "response = requests.get(url)\n",
    "\n",
    "# Parse the HTML code using BeautifulSoup\n",
    "soup = BeautifulSoup(response.content, 'html.parser')\n",
    "\n",
    "# Extract the relevant information from the HTML code\n",
    "jobs = []\n",
    "d=[]\n",
    "for row in soup.select('article.media.well.listing-item.listing-item__jobs'):\n",
    "            #logo = row.find('div', class_='media-left listing-item__logo').find('a').find('img').get('src');\n",
    "            Titre = row.find('div',class_='media-body').find('div', class_='media-heading listing-item__title').find('a').get_text(strip=True);\n",
    "            Entreprise = row.find('div',class_='media-body').find('div', class_='listing-item__info clearfix').find('span', class_='listing-item__info--item listing-item__info--item-company').get_text(strip=True);\n",
    "            Emplacement = row.find('div',class_='media-body').find('div', class_='listing-item__info clearfix').find('span', class_='listing-item__info--item listing-item__info--item-location').get_text(strip=True);\n",
    "            Détails = row.find('div',class_='listing-item__desc visible-sm visible-xs').get_text(strip=True);\n",
    "            d.append(row)\n",
    "            jobs.append(['*',Titre, Entreprise, Emplacement,Détails])\n",
    "\n",
    "# Store the information in a pandas dataframe\n",
    "df = pd.DataFrame(jobs, columns=['logo','Titre', 'Entreprise', 'Emplacement','Détails'])\n",
    "\n",
    "# Add a delay between requests to avoid overwhelming the website with requests\n",
    "time.sleep(1)"
   ],
   "metadata": {
    "collapsed": false
   }
  },
  {
   "cell_type": "code",
   "execution_count": 35,
   "outputs": [
    {
     "data": {
      "text/plain": "   logo                                              Titre  \\\n0     *    une voyante expérimentée dans un centre d'appel   \n1     *  Téléopérateurs / Téléopératrices expérimenté (...   \n2     *                                   Réceptionniste H   \n3     *                              Hotliner Vatech (H/F)   \n4     *                                     Aide comptable   \n5     *                 Stage PFE - Technologies Microsoft   \n6     *   Nederlandstalige klantadviseurs / Dutch speakers   \n7     *                     Graphiste en montage et design   \n8     *                         Responsable des Opérations   \n9     *                                         ASSISTANTE   \n10    *           Dev/expert intégration chat GPT avec API   \n11    *                      AGENT DE TRANSIT ET MANIFESTE   \n12    *                                         Commercial   \n13    *                         Responsable des Opérations   \n14    *  Comptabilité Française - Assistant de Saisie C...   \n15    *                             Chargé(e) de Clientèle   \n16    *  Téléopérateurs et Téléopératrices avec et sans...   \n17    *                                  Community Manager   \n18    *                                           Vendeuse   \n19    *  Téléopératrices / Téléopérateurs expérimentés(...   \n\n                         Entreprise                          Emplacement  \\\n0                     Contact World        Place Pasteur, Tunis, Tunisie   \n1                      ENERGIE CALL                Tunis, Tunis, Tunisie   \n2                        HOTEL TIBA                Tunis, Tunis, Tunisie   \n3                         AltraCall              Sousse, Sousse, Tunisie   \n4   CABINET NOUREDDINE BEN ABDALLAH       Route de Gremda, Sfax, Tunisie   \n5                    BMZ CONSULTING                Tunis, Tunis, Tunisie   \n6                Lycamobile Tunisie              Le kram, Tunis, Tunisie   \n7                      Oasis Events                Tunis, Tunis, Tunisie   \n8                      Oasis Events                Tunis, Tunis, Tunisie   \n9           syphax security systems              Ariana, Ariana, Tunisie   \n10                  FOREVERMO GROUP          Kairouan, Kairouan, Tunisie   \n11               AKKON TUNISIE SARL            Rades, Ben Arous, Tunisie   \n12                            Oxtek                Tunis, Tunis, Tunisie   \n13                     Oasis Events                Gabès, Gabès, Tunisie   \n14                   Gsc Consulting  Les Berges du Lac I, Tunis, Tunisie   \n15                        DS NEGOCE                 El Manzeh 5, Tunisie   \n16                         FUN Call                Tunis, Tunis, Tunisie   \n17                        DS NEGOCE          El Menzah 5, Tunis, Tunisie   \n18                        DS NEGOCE          El Menzah 5, Tunis, Tunisie   \n19                 Allo call center                Tunis, Tunis, Tunisie   \n\n                                              Détails  \n0   nous cherchons immédiatement une voyante expér...  \n1   Afin d améliorer nos activités, notre centre d...  \n2   Accueillir et prendre en charge le client à l'...  \n3   Vous êtes passionné par l'assistance technique...  \n4   Nous cherchons une aide comptable, titulaire d...  \n5   BMZ CONSULTING est une société de consulting e...  \n6   Beantwoorden van inkomende telefoontjes van kl...  \n7   Description de l'Emploi :\\nNous sommes à la re...  \n8   En tant que responsable des Opérations au sein...  \n9                                          ASSISTANTE  \n10  Nous recherchons un développeur expérimenté po...  \n11  Une ligne Maritime, recrute Un Agent de Transi...  \n12  Description de Poste :  Nous recherchons un(e)...  \n13  En tant que responsable des Opérations au sein...  \n14  Cabinet comptable français installé en Tunisie...  \n15  ???? Bienvenue chez HKEYA - Où l'Excellence du...  \n16  FUN Call Center est leader dans le domaine des...  \n17  ???? Bienvenue chez HKEYA - Où la Mode Devient...  \n18  ???? Bienvenue chez HKEYA - Chaussez l'Excelle...  \n19  ALLO Call Center est leader dans le domaine de...  ",
      "text/html": "<div>\n<style scoped>\n    .dataframe tbody tr th:only-of-type {\n        vertical-align: middle;\n    }\n\n    .dataframe tbody tr th {\n        vertical-align: top;\n    }\n\n    .dataframe thead th {\n        text-align: right;\n    }\n</style>\n<table border=\"1\" class=\"dataframe\">\n  <thead>\n    <tr style=\"text-align: right;\">\n      <th></th>\n      <th>logo</th>\n      <th>Titre</th>\n      <th>Entreprise</th>\n      <th>Emplacement</th>\n      <th>Détails</th>\n    </tr>\n  </thead>\n  <tbody>\n    <tr>\n      <th>0</th>\n      <td>*</td>\n      <td>une voyante expérimentée dans un centre d'appel</td>\n      <td>Contact World</td>\n      <td>Place Pasteur, Tunis, Tunisie</td>\n      <td>nous cherchons immédiatement une voyante expér...</td>\n    </tr>\n    <tr>\n      <th>1</th>\n      <td>*</td>\n      <td>Téléopérateurs / Téléopératrices expérimenté (...</td>\n      <td>ENERGIE CALL</td>\n      <td>Tunis, Tunis, Tunisie</td>\n      <td>Afin d améliorer nos activités, notre centre d...</td>\n    </tr>\n    <tr>\n      <th>2</th>\n      <td>*</td>\n      <td>Réceptionniste H</td>\n      <td>HOTEL TIBA</td>\n      <td>Tunis, Tunis, Tunisie</td>\n      <td>Accueillir et prendre en charge le client à l'...</td>\n    </tr>\n    <tr>\n      <th>3</th>\n      <td>*</td>\n      <td>Hotliner Vatech (H/F)</td>\n      <td>AltraCall</td>\n      <td>Sousse, Sousse, Tunisie</td>\n      <td>Vous êtes passionné par l'assistance technique...</td>\n    </tr>\n    <tr>\n      <th>4</th>\n      <td>*</td>\n      <td>Aide comptable</td>\n      <td>CABINET NOUREDDINE BEN ABDALLAH</td>\n      <td>Route de Gremda, Sfax, Tunisie</td>\n      <td>Nous cherchons une aide comptable, titulaire d...</td>\n    </tr>\n    <tr>\n      <th>5</th>\n      <td>*</td>\n      <td>Stage PFE - Technologies Microsoft</td>\n      <td>BMZ CONSULTING</td>\n      <td>Tunis, Tunis, Tunisie</td>\n      <td>BMZ CONSULTING est une société de consulting e...</td>\n    </tr>\n    <tr>\n      <th>6</th>\n      <td>*</td>\n      <td>Nederlandstalige klantadviseurs / Dutch speakers</td>\n      <td>Lycamobile Tunisie</td>\n      <td>Le kram, Tunis, Tunisie</td>\n      <td>Beantwoorden van inkomende telefoontjes van kl...</td>\n    </tr>\n    <tr>\n      <th>7</th>\n      <td>*</td>\n      <td>Graphiste en montage et design</td>\n      <td>Oasis Events</td>\n      <td>Tunis, Tunis, Tunisie</td>\n      <td>Description de l'Emploi :\\nNous sommes à la re...</td>\n    </tr>\n    <tr>\n      <th>8</th>\n      <td>*</td>\n      <td>Responsable des Opérations</td>\n      <td>Oasis Events</td>\n      <td>Tunis, Tunis, Tunisie</td>\n      <td>En tant que responsable des Opérations au sein...</td>\n    </tr>\n    <tr>\n      <th>9</th>\n      <td>*</td>\n      <td>ASSISTANTE</td>\n      <td>syphax security systems</td>\n      <td>Ariana, Ariana, Tunisie</td>\n      <td>ASSISTANTE</td>\n    </tr>\n    <tr>\n      <th>10</th>\n      <td>*</td>\n      <td>Dev/expert intégration chat GPT avec API</td>\n      <td>FOREVERMO GROUP</td>\n      <td>Kairouan, Kairouan, Tunisie</td>\n      <td>Nous recherchons un développeur expérimenté po...</td>\n    </tr>\n    <tr>\n      <th>11</th>\n      <td>*</td>\n      <td>AGENT DE TRANSIT ET MANIFESTE</td>\n      <td>AKKON TUNISIE SARL</td>\n      <td>Rades, Ben Arous, Tunisie</td>\n      <td>Une ligne Maritime, recrute Un Agent de Transi...</td>\n    </tr>\n    <tr>\n      <th>12</th>\n      <td>*</td>\n      <td>Commercial</td>\n      <td>Oxtek</td>\n      <td>Tunis, Tunis, Tunisie</td>\n      <td>Description de Poste :  Nous recherchons un(e)...</td>\n    </tr>\n    <tr>\n      <th>13</th>\n      <td>*</td>\n      <td>Responsable des Opérations</td>\n      <td>Oasis Events</td>\n      <td>Gabès, Gabès, Tunisie</td>\n      <td>En tant que responsable des Opérations au sein...</td>\n    </tr>\n    <tr>\n      <th>14</th>\n      <td>*</td>\n      <td>Comptabilité Française - Assistant de Saisie C...</td>\n      <td>Gsc Consulting</td>\n      <td>Les Berges du Lac I, Tunis, Tunisie</td>\n      <td>Cabinet comptable français installé en Tunisie...</td>\n    </tr>\n    <tr>\n      <th>15</th>\n      <td>*</td>\n      <td>Chargé(e) de Clientèle</td>\n      <td>DS NEGOCE</td>\n      <td>El Manzeh 5, Tunisie</td>\n      <td>???? Bienvenue chez HKEYA - Où l'Excellence du...</td>\n    </tr>\n    <tr>\n      <th>16</th>\n      <td>*</td>\n      <td>Téléopérateurs et Téléopératrices avec et sans...</td>\n      <td>FUN Call</td>\n      <td>Tunis, Tunis, Tunisie</td>\n      <td>FUN Call Center est leader dans le domaine des...</td>\n    </tr>\n    <tr>\n      <th>17</th>\n      <td>*</td>\n      <td>Community Manager</td>\n      <td>DS NEGOCE</td>\n      <td>El Menzah 5, Tunis, Tunisie</td>\n      <td>???? Bienvenue chez HKEYA - Où la Mode Devient...</td>\n    </tr>\n    <tr>\n      <th>18</th>\n      <td>*</td>\n      <td>Vendeuse</td>\n      <td>DS NEGOCE</td>\n      <td>El Menzah 5, Tunis, Tunisie</td>\n      <td>???? Bienvenue chez HKEYA - Chaussez l'Excelle...</td>\n    </tr>\n    <tr>\n      <th>19</th>\n      <td>*</td>\n      <td>Téléopératrices / Téléopérateurs expérimentés(...</td>\n      <td>Allo call center</td>\n      <td>Tunis, Tunis, Tunisie</td>\n      <td>ALLO Call Center est leader dans le domaine de...</td>\n    </tr>\n  </tbody>\n</table>\n</div>"
     },
     "execution_count": 35,
     "metadata": {},
     "output_type": "execute_result"
    }
   ],
   "source": [
    "df"
   ],
   "metadata": {
    "collapsed": false
   }
  },
  {
   "cell_type": "markdown",
   "source": [],
   "metadata": {
    "collapsed": false
   }
  },
  {
   "cell_type": "code",
   "execution_count": 47,
   "outputs": [
    {
     "name": "stdout",
     "output_type": "stream",
     "text": [
      "https://www.tanitjobs.com/jobs/?searchId=1701734026.9022&action=search&page=2\n",
      "https://www.tanitjobs.com/jobs/?searchId=1701734026.9022&action=search&page=3\n",
      "https://www.tanitjobs.com/jobs/?searchId=1701734026.9022&action=search&page=4\n",
      "https://www.tanitjobs.com/jobs/?searchId=1701734026.9022&action=search&page=5\n",
      "https://www.tanitjobs.com/jobs/?searchId=1701734026.9022&action=search&page=6\n",
      "https://www.tanitjobs.com/jobs/?searchId=1701734026.9022&action=search&page=7\n",
      "https://www.tanitjobs.com/jobs/?searchId=1701734026.9022&action=search&page=8\n",
      "https://www.tanitjobs.com/jobs/?searchId=1701734026.9022&action=search&page=9\n",
      "https://www.tanitjobs.com/jobs/?searchId=1701734026.9022&action=search&page=10\n",
      "https://www.tanitjobs.com/jobs/?searchId=1701734026.9022&action=search&page=11\n",
      "https://www.tanitjobs.com/jobs/?searchId=1701734026.9022&action=search&page=12\n",
      "https://www.tanitjobs.com/jobs/?searchId=1701734026.9022&action=search&page=13\n",
      "https://www.tanitjobs.com/jobs/?searchId=1701734026.9022&action=search&page=14\n",
      "https://www.tanitjobs.com/jobs/?searchId=1701734026.9022&action=search&page=15\n",
      "https://www.tanitjobs.com/jobs/?searchId=1701734026.9022&action=search&page=16\n",
      "https://www.tanitjobs.com/jobs/?searchId=1701734026.9022&action=search&page=2\n",
      "https://www.tanitjobs.com/jobs/?searchId=1701734026.9022&action=search&page=3\n",
      "https://www.tanitjobs.com/jobs/?searchId=1701734026.9022&action=search&page=4\n",
      "https://www.tanitjobs.com/jobs/?searchId=1701734026.9022&action=search&page=5\n",
      "https://www.tanitjobs.com/jobs/?searchId=1701734026.9022&action=search&page=6\n",
      "https://www.tanitjobs.com/jobs/?searchId=1701734026.9022&action=search&page=7\n",
      "https://www.tanitjobs.com/jobs/?searchId=1701734026.9022&action=search&page=8\n",
      "https://www.tanitjobs.com/jobs/?searchId=1701734026.9022&action=search&page=9\n",
      "https://www.tanitjobs.com/jobs/?searchId=1701734026.9022&action=search&page=10\n",
      "https://www.tanitjobs.com/jobs/?searchId=1701734026.9022&action=search&page=11\n",
      "https://www.tanitjobs.com/jobs/?searchId=1701734026.9022&action=search&page=12\n",
      "https://www.tanitjobs.com/jobs/?searchId=1701734026.9022&action=search&page=13\n",
      "https://www.tanitjobs.com/jobs/?searchId=1701734026.9022&action=search&page=14\n",
      "https://www.tanitjobs.com/jobs/?searchId=1701734026.9022&action=search&page=15\n",
      "https://www.tanitjobs.com/jobs/?searchId=1701734026.9022&action=search&page=16\n"
     ]
    }
   ],
   "source": [
    "import requests\n",
    "from urllib.parse import urljoin\n",
    "from bs4 import BeautifulSoup\n",
    "import pandas as pd\n",
    "import time\n",
    "\n",
    "# URL of the website to scrape\n",
    "url = \"https://www.tanitjobs.com/jobs/\"\n",
    "\n",
    "# Send an HTTP GET request to the website\n",
    "response = requests.get(url)\n",
    "\n",
    "# Parse the HTML code using BeautifulSoup\n",
    "soup = BeautifulSoup(response.content, 'html.parser')\n",
    "\n",
    "# Extract the relevant information from the HTML code\n",
    "jobs = []\n",
    "d=[]\n",
    "for row in soup.select('article.media.well.listing-item.listing-item__jobs'):\n",
    "            #logo = row.find('div', class_='media-left listing-item__logo').find('a').find('img').get('src');\n",
    "            Titre = row.find('div',class_='media-body').find('div', class_='media-heading listing-item__title').find('a').get_text(strip=True);\n",
    "            Entreprise = row.find('div',class_='media-body').find('div', class_='listing-item__info clearfix').find('span', class_='listing-item__info--item listing-item__info--item-company').get_text(strip=True);\n",
    "            Emplacement = row.find('div',class_='media-body').find('div', class_='listing-item__info clearfix').find('span', class_='listing-item__info--item listing-item__info--item-location').get_text(strip=True);\n",
    "            Détails = row.find('div',class_='listing-item__desc visible-sm visible-xs').get_text(strip=True);\n",
    "            d.append(row)\n",
    "            jobs.append(['*',Titre, Entreprise, Emplacement,Détails])\n",
    "\n",
    "page_link_el = soup.select('span.pad_right_small')\n",
    "# Do more with the first page.\n",
    "\n",
    "# Make links for and process the following pages.\n",
    "for link_el in page_link_el:\n",
    "    link = urljoin(url, link_el.find('a').get('href'))\n",
    "    response = requests.get(link)\n",
    "    soup = BeautifulSoup(response.content, 'html.parser')\n",
    "    print(response.url)\n",
    "    for row in soup.select('article.media.well.listing-item.listing-item__jobs'):\n",
    "            #logo = row.find('div', class_='media-left listing-item__logo').find('a').find('img').get('src');\n",
    "            Titre = row.find('div',class_='media-body').find('div', class_='media-heading listing-item__title').find('a').get_text(strip=True);\n",
    "            Entreprise = row.find('div',class_='media-body').find('div', class_='listing-item__info clearfix').find('span', class_='listing-item__info--item listing-item__info--item-company').get_text(strip=True);\n",
    "            Emplacement = row.find('div',class_='media-body').find('div', class_='listing-item__info clearfix').find('span', class_='listing-item__info--item listing-item__info--item-location').get_text(strip=True);\n",
    "            Détails = row.find('div',class_='listing-item__desc visible-sm visible-xs').get_text(strip=True);\n",
    "            d.append(row)\n",
    "            jobs.append(['*',Titre, Entreprise, Emplacement,Détails])\n",
    "\n",
    "    # Do more with each page.\n",
    "# Store the information in a pandas dataframe\n",
    "df = pd.DataFrame(jobs, columns=['logo','Titre', 'Entreprise', 'Emplacement','Détails'])\n",
    "\n",
    "# Add a delay between requests to avoid overwhelming the website with requests\n",
    "time.sleep(1)"
   ],
   "metadata": {
    "collapsed": false
   }
  },
  {
   "cell_type": "code",
   "execution_count": 49,
   "outputs": [
    {
     "data": {
      "text/plain": "    logo                                              Titre  \\\n0      *    une voyante expérimentée dans un centre d'appel   \n1      *  Téléopérateurs / Téléopératrices expérimenté (...   \n2      *                                   Réceptionniste H   \n3      *                              Hotliner Vatech (H/F)   \n4      *                                     Aide comptable   \n..   ...                                                ...   \n615    *                 Responsable Financier et Comptable   \n616    *   Représentant Commerciale Sfax, Sud de la Tunisie   \n617    *                              Technico - Commercial   \n618    *                                Technico Commercial   \n619    *                                         Commercial   \n\n                          Entreprise                     Emplacement  \\\n0                      Contact World   Place Pasteur, Tunis, Tunisie   \n1                       ENERGIE CALL           Tunis, Tunis, Tunisie   \n2                         HOTEL TIBA           Tunis, Tunis, Tunisie   \n3                          AltraCall         Sousse, Sousse, Tunisie   \n4    CABINET NOUREDDINE BEN ABDALLAH  Route de Gremda, Sfax, Tunisie   \n..                               ...                             ...   \n615                          anonyme   Mutuelleville, Tunis, Tunisie   \n616            Goutinel Distribution              Sfax, Sfax Tunisie   \n617             advance solar energy        Nabeul‎, Nabeul, Tunisie   \n618                              MGE         Ariana, Ariana, Tunisie   \n619                           AMATAB             Sfax, Sfax, Tunisie   \n\n                                               Détails  \n0    nous cherchons immédiatement une voyante expér...  \n1    Afin d améliorer nos activités, notre centre d...  \n2    Accueillir et prendre en charge le client à l'...  \n3    Vous êtes passionné par l'assistance technique...  \n4    Nous cherchons une aide comptable, titulaire d...  \n..                                                 ...  \n615  Suivi de la trésorerie et des flux bancaires\\n...  \n616  Représentant commercial Sud(Sfax et Sud de la ...  \n617  Vous prenez en charge la demande des prospects...  \n618  Notre société Mge Security opérant dans le dom...  \n619               Noue recrutons un Commercial Digital  \n\n[620 rows x 5 columns]",
      "text/html": "<div>\n<style scoped>\n    .dataframe tbody tr th:only-of-type {\n        vertical-align: middle;\n    }\n\n    .dataframe tbody tr th {\n        vertical-align: top;\n    }\n\n    .dataframe thead th {\n        text-align: right;\n    }\n</style>\n<table border=\"1\" class=\"dataframe\">\n  <thead>\n    <tr style=\"text-align: right;\">\n      <th></th>\n      <th>logo</th>\n      <th>Titre</th>\n      <th>Entreprise</th>\n      <th>Emplacement</th>\n      <th>Détails</th>\n    </tr>\n  </thead>\n  <tbody>\n    <tr>\n      <th>0</th>\n      <td>*</td>\n      <td>une voyante expérimentée dans un centre d'appel</td>\n      <td>Contact World</td>\n      <td>Place Pasteur, Tunis, Tunisie</td>\n      <td>nous cherchons immédiatement une voyante expér...</td>\n    </tr>\n    <tr>\n      <th>1</th>\n      <td>*</td>\n      <td>Téléopérateurs / Téléopératrices expérimenté (...</td>\n      <td>ENERGIE CALL</td>\n      <td>Tunis, Tunis, Tunisie</td>\n      <td>Afin d améliorer nos activités, notre centre d...</td>\n    </tr>\n    <tr>\n      <th>2</th>\n      <td>*</td>\n      <td>Réceptionniste H</td>\n      <td>HOTEL TIBA</td>\n      <td>Tunis, Tunis, Tunisie</td>\n      <td>Accueillir et prendre en charge le client à l'...</td>\n    </tr>\n    <tr>\n      <th>3</th>\n      <td>*</td>\n      <td>Hotliner Vatech (H/F)</td>\n      <td>AltraCall</td>\n      <td>Sousse, Sousse, Tunisie</td>\n      <td>Vous êtes passionné par l'assistance technique...</td>\n    </tr>\n    <tr>\n      <th>4</th>\n      <td>*</td>\n      <td>Aide comptable</td>\n      <td>CABINET NOUREDDINE BEN ABDALLAH</td>\n      <td>Route de Gremda, Sfax, Tunisie</td>\n      <td>Nous cherchons une aide comptable, titulaire d...</td>\n    </tr>\n    <tr>\n      <th>...</th>\n      <td>...</td>\n      <td>...</td>\n      <td>...</td>\n      <td>...</td>\n      <td>...</td>\n    </tr>\n    <tr>\n      <th>615</th>\n      <td>*</td>\n      <td>Responsable Financier et Comptable</td>\n      <td>anonyme</td>\n      <td>Mutuelleville, Tunis, Tunisie</td>\n      <td>Suivi de la trésorerie et des flux bancaires\\n...</td>\n    </tr>\n    <tr>\n      <th>616</th>\n      <td>*</td>\n      <td>Représentant Commerciale Sfax, Sud de la Tunisie</td>\n      <td>Goutinel Distribution</td>\n      <td>Sfax, Sfax Tunisie</td>\n      <td>Représentant commercial Sud(Sfax et Sud de la ...</td>\n    </tr>\n    <tr>\n      <th>617</th>\n      <td>*</td>\n      <td>Technico - Commercial</td>\n      <td>advance solar energy</td>\n      <td>Nabeul‎, Nabeul, Tunisie</td>\n      <td>Vous prenez en charge la demande des prospects...</td>\n    </tr>\n    <tr>\n      <th>618</th>\n      <td>*</td>\n      <td>Technico Commercial</td>\n      <td>MGE</td>\n      <td>Ariana, Ariana, Tunisie</td>\n      <td>Notre société Mge Security opérant dans le dom...</td>\n    </tr>\n    <tr>\n      <th>619</th>\n      <td>*</td>\n      <td>Commercial</td>\n      <td>AMATAB</td>\n      <td>Sfax, Sfax, Tunisie</td>\n      <td>Noue recrutons un Commercial Digital</td>\n    </tr>\n  </tbody>\n</table>\n<p>620 rows × 5 columns</p>\n</div>"
     },
     "execution_count": 49,
     "metadata": {},
     "output_type": "execute_result"
    }
   ],
   "source": [
    "df"
   ],
   "metadata": {
    "collapsed": false
   }
  }
 ],
 "metadata": {
  "kernelspec": {
   "display_name": "Python 3",
   "language": "python",
   "name": "python3"
  },
  "language_info": {
   "codemirror_mode": {
    "name": "ipython",
    "version": 2
   },
   "file_extension": ".py",
   "mimetype": "text/x-python",
   "name": "python",
   "nbconvert_exporter": "python",
   "pygments_lexer": "ipython2",
   "version": "2.7.6"
  }
 },
 "nbformat": 4,
 "nbformat_minor": 0
}
